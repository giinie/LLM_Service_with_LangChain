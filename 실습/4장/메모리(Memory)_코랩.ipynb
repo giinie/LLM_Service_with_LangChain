{
 "cells": [
  {
   "cell_type": "code",
   "id": "91fcb318",
   "metadata": {
    "colab": {
     "base_uri": "https://localhost:8080/"
    },
    "id": "91fcb318",
    "outputId": "1f35226d-22e7-48d1-b84b-b311c1282bf8"
   },
   "source": [
    "!pip install langchain"
   ],
   "outputs": [],
   "execution_count": null
  },
  {
   "cell_type": "code",
   "id": "6dbffa33",
   "metadata": {
    "colab": {
     "base_uri": "https://localhost:8080/"
    },
    "id": "6dbffa33",
    "outputId": "9352644c-e7c4-4572-a31d-a4e5178ad2da"
   },
   "source": [
    "!pip install openai"
   ],
   "outputs": [],
   "execution_count": null
  },
  {
   "cell_type": "code",
   "source": [
    "!pip install langchain_community"
   ],
   "metadata": {
    "colab": {
     "base_uri": "https://localhost:8080/"
    },
    "id": "I29b3Ht4EyYX",
    "outputId": "b775d284-1669-4e9a-d708-23d053c167b7"
   },
   "id": "I29b3Ht4EyYX",
   "outputs": [],
   "execution_count": null
  },
  {
   "cell_type": "code",
   "id": "dfefdd4f",
   "metadata": {
    "colab": {
     "base_uri": "https://localhost:8080/",
     "height": 838
    },
    "id": "dfefdd4f",
    "outputId": "07380e32-54af-4efa-a48d-c03e7474ff50"
   },
   "source": [
    "import os\n",
    "os.environ[\"OPENAI_API_KEY\"] = \"sk\" #openai 키 입력\n",
    "\n",
    "from langchain.chat_models import ChatOpenAI\n",
    "llm = ChatOpenAI(temperature=0,  # 창의성 0으로 설정\n",
    "                 model_name='gpt-4',  # 모델명\n",
    "                )\n",
    "\n",
    "from langchain import ConversationChain\n",
    "conversation = ConversationChain(llm=llm, verbose=True)\n",
    "\n",
    "conversation.predict(input=\"진희는 강아지를 한마리 키우고 있습니다.\")\n",
    "conversation.predict(input=\"영수는 고양이를 두마리 키우고 있습니다.\")\n",
    "conversation.predict(input=\"진희와 영수가 키우는 동물은 총 몇마리?\")"
   ],
   "outputs": [],
   "execution_count": null
  },
  {
   "cell_type": "code",
   "id": "5169d504",
   "metadata": {
    "id": "5169d504"
   },
   "source": [],
   "outputs": [],
   "execution_count": null
  }
 ],
 "metadata": {
  "kernelspec": {
   "display_name": "openai_f",
   "language": "python",
   "name": "openai"
  },
  "language_info": {
   "codemirror_mode": {
    "name": "ipython",
    "version": 3
   },
   "file_extension": ".py",
   "mimetype": "text/x-python",
   "name": "python",
   "nbconvert_exporter": "python",
   "pygments_lexer": "ipython3",
   "version": "3.8.19"
  },
  "colab": {
   "provenance": []
  }
 },
 "nbformat": 4,
 "nbformat_minor": 5
}
