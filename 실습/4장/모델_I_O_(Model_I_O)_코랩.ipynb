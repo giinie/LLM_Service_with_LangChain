{
 "cells": [
  {
   "cell_type": "code",
   "id": "ab52b8bb",
   "metadata": {
    "colab": {
     "base_uri": "https://localhost:8080/"
    },
    "id": "ab52b8bb",
    "outputId": "369590c8-2714-458a-db12-13f8257c8b5e"
   },
   "source": [
    "!pip install langchain"
   ],
   "outputs": [],
   "execution_count": null
  },
  {
   "cell_type": "code",
   "id": "cd337020",
   "metadata": {
    "colab": {
     "base_uri": "https://localhost:8080/"
    },
    "id": "cd337020",
    "outputId": "9ad17a21-1c92-4cc1-c351-f24760d43f4b"
   },
   "source": [
    "!pip install openai"
   ],
   "outputs": [],
   "execution_count": null
  },
  {
   "cell_type": "code",
   "id": "e28b9d69",
   "metadata": {
    "colab": {
     "base_uri": "https://localhost:8080/"
    },
    "id": "e28b9d69",
    "outputId": "582da049-c81d-4a37-a7fa-74c9db207a7c"
   },
   "source": [
    "!pip install huggingface-hub"
   ],
   "outputs": [],
   "execution_count": null
  },
  {
   "cell_type": "code",
   "source": [
    "!pip install langchain_community"
   ],
   "metadata": {
    "colab": {
     "base_uri": "https://localhost:8080/"
    },
    "id": "qandNpIWFTie",
    "outputId": "fccf6c9c-0531-4953-a635-204a32a09be2"
   },
   "id": "qandNpIWFTie",
   "outputs": [],
   "execution_count": null
  },
  {
   "cell_type": "code",
   "id": "52652a4d",
   "metadata": {
    "colab": {
     "base_uri": "https://localhost:8080/",
     "height": 35
    },
    "id": "52652a4d",
    "outputId": "869f23b5-4bc9-41b1-d952-f5ebadb84f96"
   },
   "source": [
    "from langchain import PromptTemplate\n",
    "template = \"{product}를 홍보하기 위한 좋은 문구를 추천해줘?\"\n",
    "\n",
    "prompt = PromptTemplate(\n",
    "    input_variables=[\"product\"],\n",
    "    template=template,\n",
    ")\n",
    "\n",
    "prompt.format(product=\"카메라\")"
   ],
   "outputs": [],
   "execution_count": null
  },
  {
   "cell_type": "code",
   "id": "244ed60f",
   "metadata": {
    "colab": {
     "base_uri": "https://localhost:8080/"
    },
    "id": "244ed60f",
    "outputId": "a7bbd00a-9382-425c-f34a-29648bb687ff"
   },
   "source": [
    "import os\n",
    "os.environ[\"OPENAI_API_KEY\"] = \"sk\" #openai 키 입력\n",
    "\n",
    "from langchain.chat_models import ChatOpenAI\n",
    "llm1 = ChatOpenAI(temperature=0,  # 창의성 0으로 설정\n",
    "                 model_name='gpt-4',  # 모델명\n",
    "                )\n",
    "\n",
    "prompt = \"진희는 강아지를 키우고 있습니다. 진희가 키우고 있는 동물은?\"\n",
    "print(llm1.predict(prompt))"
   ],
   "outputs": [],
   "execution_count": null
  },
  {
   "cell_type": "code",
   "id": "3335bb9b",
   "metadata": {
    "colab": {
     "base_uri": "https://localhost:8080/"
    },
    "id": "3335bb9b",
    "outputId": "8e57d895-93da-47ed-9e50-f15f6afa9dc0"
   },
   "source": [
    "import os\n",
    "os.environ[\"HUGGINGFACEHUB_API_TOKEN\"] = \"hf\"  #허깅페이스 키 입력\n",
    "\n",
    "from langchain import HuggingFaceHub\n",
    "llm2 = HuggingFaceHub(repo_id='tiiuae/falcon-7b-instruct')\n",
    "\n",
    "prompt = \"진희는 강아지를 키우고 있습니다. 진희가 키우고 있는 동물은?\"\n",
    "completion = llm2(prompt)\n",
    "print(completion)"
   ],
   "outputs": [],
   "execution_count": null
  },
  {
   "cell_type": "code",
   "id": "f3ef58ac",
   "metadata": {
    "colab": {
     "base_uri": "https://localhost:8080/"
    },
    "id": "f3ef58ac",
    "outputId": "6360cbc7-29f5-4af7-9bd5-cd664bc469ac"
   },
   "source": [
    "from langchain.model_laboratory import ModelLaboratory\n",
    "model_lab = ModelLaboratory.from_llms([llm1, llm2])\n",
    "model_lab.compare(\"대한민국의 가을은 몇 월부터 몇 월까지야?\")"
   ],
   "outputs": [],
   "execution_count": null
  },
  {
   "cell_type": "code",
   "id": "a28347b4",
   "metadata": {
    "id": "a28347b4"
   },
   "source": [
    "from langchain.output_parsers import CommaSeparatedListOutputParser\n",
    "from langchain.prompts import PromptTemplate\n",
    "\n",
    "from langchain.chat_models import ChatOpenAI\n",
    "llm = ChatOpenAI(temperature=0,  # 창의성 0으로 설정\n",
    "                 max_tokens=2048,  # 최대 토큰수\n",
    "                 model_name='gpt-4',  # 모델명\n",
    "                )\n",
    "\n",
    "output_parser = CommaSeparatedListOutputParser() #파서 초기화\n",
    "format_instructions = output_parser.get_format_instructions() #출력 형식 지정\n",
    "\n",
    "prompt = PromptTemplate(\n",
    "    template=\"7개의 팀을 보여줘 {subject}.\\n{format_instructions}\",\n",
    "    input_variables=[\"subject\"],\n",
    "    partial_variables={\"format_instructions\": format_instructions}\n",
    ")"
   ],
   "outputs": [],
   "execution_count": null
  },
  {
   "cell_type": "code",
   "id": "b68f3985",
   "metadata": {
    "colab": {
     "base_uri": "https://localhost:8080/"
    },
    "id": "b68f3985",
    "outputId": "7a6aefab-0ea4-4863-efd1-00ee6b9720a1"
   },
   "source": [
    "query = \"한국의 야구팀은?\"\n",
    "\n",
    "# 출력 결과 생성\n",
    "output = llm.predict(text=prompt.format(subject=query))\n",
    "\n",
    "# 출력에 대한 포맷 변경\n",
    "parsed_result = output_parser.parse(output)\n",
    "print(parsed_result)"
   ],
   "outputs": [],
   "execution_count": null
  },
  {
   "cell_type": "code",
   "id": "0a7fa8f8-2af2-4b2a-939d-3592c1a12589",
   "metadata": {
    "id": "0a7fa8f8-2af2-4b2a-939d-3592c1a12589"
   },
   "source": [],
   "outputs": [],
   "execution_count": null
  }
 ],
 "metadata": {
  "kernelspec": {
   "display_name": "openai_f",
   "language": "python",
   "name": "openai"
  },
  "language_info": {
   "codemirror_mode": {
    "name": "ipython",
    "version": 3
   },
   "file_extension": ".py",
   "mimetype": "text/x-python",
   "name": "python",
   "nbconvert_exporter": "python",
   "pygments_lexer": "ipython3",
   "version": "3.8.19"
  },
  "colab": {
   "provenance": []
  }
 },
 "nbformat": 4,
 "nbformat_minor": 5
}
