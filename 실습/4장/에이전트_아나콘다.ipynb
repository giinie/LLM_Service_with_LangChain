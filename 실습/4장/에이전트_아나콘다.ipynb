{
 "cells": [
  {
   "cell_type": "code",
   "id": "c084c02c",
   "metadata": {},
   "source": [
    "!pip install langchain"
   ],
   "outputs": [],
   "execution_count": null
  },
  {
   "cell_type": "code",
   "id": "16d24748",
   "metadata": {},
   "source": [
    "!pip install openai"
   ],
   "outputs": [],
   "execution_count": null
  },
  {
   "cell_type": "code",
   "id": "a736f2f1",
   "metadata": {},
   "source": [
    "!pip install wikipedia"
   ],
   "outputs": [],
   "execution_count": null
  },
  {
   "cell_type": "code",
   "id": "b72bd503",
   "metadata": {},
   "source": [
    "!pip install numexpr"
   ],
   "outputs": [],
   "execution_count": null
  },
  {
   "cell_type": "code",
   "id": "602964b4",
   "metadata": {},
   "source": [
    "import os\n",
    "os.environ[\"OPENAI_API_KEY\"] = \"sk\" #openai 키 입력\n",
    "\n",
    "from langchain.chat_models import ChatOpenAI\n",
    "llm = ChatOpenAI(temperature=0,  # 창의성 0으로 설정 \n",
    "                 model_name='gpt-4',  # 모델명\n",
    "                )\n",
    "\n",
    "from langchain.agents import load_tools\n",
    "from langchain.agents import initialize_agent\n",
    "from langchain.agents import AgentType\n",
    " \n",
    "tools = load_tools([\"wikipedia\", \"llm-math\"], llm=llm) #llm-math의 경우 나이 계산을 위해 사용\n",
    "agent = initialize_agent(tools, \n",
    "                         llm, \n",
    "                         agent=AgentType.ZERO_SHOT_REACT_DESCRIPTION, \n",
    "                         description='계산이 필요할 때 사용',\n",
    "                         verbose=True) \n",
    "\n",
    "agent.run(\"에드 시런이 태어난 해는? 2024년도 현재 에드 시런은 몇 살?\")"
   ],
   "outputs": [],
   "execution_count": null
  },
  {
   "cell_type": "code",
   "id": "d5428aa6",
   "metadata": {},
   "source": [],
   "outputs": [],
   "execution_count": null
  }
 ],
 "metadata": {
  "kernelspec": {
   "display_name": "openai",
   "language": "python",
   "name": "openai"
  },
  "language_info": {
   "codemirror_mode": {
    "name": "ipython",
    "version": 3
   },
   "file_extension": ".py",
   "mimetype": "text/x-python",
   "name": "python",
   "nbconvert_exporter": "python",
   "pygments_lexer": "ipython3",
   "version": "3.8.19"
  }
 },
 "nbformat": 4,
 "nbformat_minor": 5
}
